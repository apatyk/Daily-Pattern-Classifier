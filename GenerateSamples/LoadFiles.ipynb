{
 "cells": [
  {
   "cell_type": "code",
   "execution_count": null,
   "metadata": {},
   "outputs": [],
   "source": [
    "import os\n",
    "import tensorflow as tf\n",
    "import numpy as np\n",
    "import glob\n",
    "import multiprocessing as mp\n",
    "from tqdm import tqdm\n",
    "from datetime import datetime\n",
    "\n",
    "### LOAD FILES FROM MULTIPLE DIRECTORIES IN PARALLEL\n",
    "\n",
    "W = [2, 4, 6, 8, 10]\n",
    "\n",
    "samples, labels = [], []\n",
    "\n",
    "# reader function for parallelized text file reading\n",
    "def reader(window_size):\n",
    "    data  = []\n",
    "    for filename in tqdm(glob.glob(os.path.join(data_dir + f'W{window_size}/', '*.txt'))):\n",
    "        d = np.loadtxt(filename)\n",
    "        f = np.full((len(d), 1), int(filename[-12:-9]))\n",
    "        data.append(np.hstack((f, d)))\n",
    "    return data\n",
    "    \n",
    "data_dir = '/home/apatyk/DailySamples/'\n",
    "\n",
    "start_time = datetime.now()\n",
    "\n",
    "print(f'Loading data in parallel...', flush=True) # buffer flush needed with tqdm\n",
    "# read text files in parallel\n",
    "pool = mp.Pool(len(W))\n",
    "data_ls = pool.map(reader, W)\n",
    "\n",
    "end_time = datetime.now()\n",
    "print(f'Duration: {end_time - start_time}', flush=True) # buffer flush needed with tqdm\n",
    "\n",
    "# arrange data into samples, labels and filenames for saving\n",
    "all_data = np.hstack(data_ls)\n",
    "all_samples = [x[:, 2] for x in all_data]\n",
    "all_labels = [x[:, 1] for x in all_data]\n",
    "all_filenames = [x[0, 0] for x in all_data]\n",
    "\n",
    "# save data to numpy arrays\n",
    "np.save('1M-samples/daily-samples.npy', all_samples)\n",
    "np.save('1M-samples/daily-labels.npy', all_labels)\n",
    "np.save('1M-samples/daily-filenames.npy', all_filenames)\n",
    "\n",
    "print('Done.')"
   ]
  },
  {
   "cell_type": "code",
   "execution_count": null,
   "metadata": {},
   "outputs": [],
   "source": [
    "import os\n",
    "import numpy as np\n",
    "import glob\n",
    "from tqdm import tqdm\n",
    "\n",
    "### LOAD FILES FROM SINGLE DIRECTORY (SERIAL)\n",
    "\n",
    "data_dir = '/home/apatyk/DailySamples/W6/'\n",
    "\n",
    "all_data  = []\n",
    "for filename in tqdm(glob.glob(os.path.join(data_dir, '*.txt'))):\n",
    "    d = np.loadtxt(filename)\n",
    "    f = np.full((len(d), 1), int(filename[-12:-9]))\n",
    "    all_data.append(np.hstack((f, d)))\n",
    "    \n",
    "all_samples = [x[:, 2] for x in all_data]\n",
    "all_labels = [x[:, 1] for x in all_data]\n",
    "all_filenames = [x[0, 0] for x in all_data]\n",
    "\n",
    "np.save('200k-samples-W6/daily-samples.npy', all_samples)\n",
    "np.save('200k-samples-W6/daily-labels.npy', all_labels)\n",
    "np.save('200k-samples-W6/daily-filenames.npy', all_filenames)"
   ]
  },
  {
   "cell_type": "code",
   "execution_count": null,
   "metadata": {},
   "outputs": [],
   "source": []
  }
 ],
 "metadata": {
  "kernelspec": {
   "display_name": "Python 3.8.3 64-bit ('base': conda)",
   "name": "python383jvsc74a57bd0d23d9333076002b9a427d20d04217b1322cf2315e4f0fadd1775c96919759444"
  },
  "language_info": {
   "name": "python",
   "version": ""
  }
 },
 "nbformat": 4,
 "nbformat_minor": 4
}